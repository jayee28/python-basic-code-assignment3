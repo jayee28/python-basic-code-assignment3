{
 "cells": [
  {
   "cell_type": "code",
   "execution_count": 7,
   "id": "c37de641",
   "metadata": {},
   "outputs": [
    {
     "name": "stdout",
     "output_type": "stream",
     "text": [
      "enter the no:10\n",
      "No is positive\n"
     ]
    }
   ],
   "source": [
    "###Write a Python Program to Check if a Number is Positive, Negative or Zero.\n",
    "a = int(input(\"enter the no:\"))\n",
    "if a > 0:\n",
    "    print(\"No is positive\")\n",
    "elif a == 0:\n",
    "    print(\"No is zero\")\n",
    "else:\n",
    "    print(\"No is negative\")"
   ]
  },
  {
   "cell_type": "code",
   "execution_count": 10,
   "id": "5ba2c9ac",
   "metadata": {},
   "outputs": [
    {
     "name": "stdout",
     "output_type": "stream",
     "text": [
      "Enter the no:5\n",
      "No is odd\n"
     ]
    }
   ],
   "source": [
    "###Write a Python Program to Check if a Number is Odd or Even.\n",
    "x = int(input(\"Enter the no:\"))\n",
    "if x%2 == 0:\n",
    "    print(\"No is even\")\n",
    "else:\n",
    "    print(\"No is odd\")"
   ]
  },
  {
   "cell_type": "code",
   "execution_count": 64,
   "id": "7177ad78",
   "metadata": {},
   "outputs": [
    {
     "name": "stdout",
     "output_type": "stream",
     "text": [
      "enter the year:2020\n",
      "The year is leap year\n"
     ]
    }
   ],
   "source": [
    "###Write a Python Program to Check Leap Year.\n",
    "year = int(input(\"enter the year:\"))\n",
    "if year % 4 == 0:\n",
    "    print(\"The year is leap year\")\n",
    "else:\n",
    "    print(\"The year is not leap year\")"
   ]
  },
  {
   "cell_type": "code",
   "execution_count": 96,
   "id": "87b39113",
   "metadata": {},
   "outputs": [
    {
     "name": "stdout",
     "output_type": "stream",
     "text": [
      "enter the no:9\n",
      "No. is not prime\n"
     ]
    }
   ],
   "source": [
    "###Write a Python Program to Check Prime Number.\n",
    "n=int(input(\"enter the no:\"))\n",
    "count=0\n",
    "i=1\n",
    "while (i<=n):\n",
    "    if n%i == 0:\n",
    "        count=count+1\n",
    "    i=i+1\n",
    "if (count==2):\n",
    "    print(\"No. is prime\")\n",
    "else:\n",
    "    print(\"No. is not prime\")"
   ]
  },
  {
   "cell_type": "code",
   "execution_count": 94,
   "id": "6cfaa698",
   "metadata": {},
   "outputs": [
    {
     "name": "stdout",
     "output_type": "stream",
     "text": [
      "enter starting point:1\n",
      "enter ending point:10\n",
      "2\n",
      "3\n",
      "5\n",
      "7\n"
     ]
    }
   ],
   "source": [
    "###Write a Python Program to Print all Prime Numbers in an Interval of 1-10000.\n",
    "a=int(input(\"enter starting point:\"))\n",
    "b=int(input(\"enter ending point:\"))\n",
    "while (a<=b):\n",
    "    i=1\n",
    "    count=0\n",
    "    while (i<=a):\n",
    "        if a%i == 0:\n",
    "            count=count+1\n",
    "        i=i+1\n",
    "    if count == 2:\n",
    "        print(a)\n",
    "    a=a+1"
   ]
  },
  {
   "cell_type": "code",
   "execution_count": null,
   "id": "4bfb80b8",
   "metadata": {},
   "outputs": [],
   "source": []
  },
  {
   "cell_type": "code",
   "execution_count": null,
   "id": "c97e899e",
   "metadata": {},
   "outputs": [],
   "source": []
  },
  {
   "cell_type": "code",
   "execution_count": null,
   "id": "81196588",
   "metadata": {},
   "outputs": [],
   "source": []
  }
 ],
 "metadata": {
  "kernelspec": {
   "display_name": "Python 3",
   "language": "python",
   "name": "python3"
  },
  "language_info": {
   "codemirror_mode": {
    "name": "ipython",
    "version": 3
   },
   "file_extension": ".py",
   "mimetype": "text/x-python",
   "name": "python",
   "nbconvert_exporter": "python",
   "pygments_lexer": "ipython3",
   "version": "3.8.8"
  }
 },
 "nbformat": 4,
 "nbformat_minor": 5
}
